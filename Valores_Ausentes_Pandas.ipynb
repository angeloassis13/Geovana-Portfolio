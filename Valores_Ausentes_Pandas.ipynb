{
  "nbformat": 4,
  "nbformat_minor": 0,
  "metadata": {
    "colab": {
      "name": "DSNP - valores_ausentes_aula.ipynb",
      "provenance": [],
      "authorship_tag": "ABX9TyN/bUqtUpWna++wMBJsWsoP",
      "include_colab_link": true
    },
    "kernelspec": {
      "name": "python3",
      "display_name": "Python 3"
    }
  },
  "cells": [
    {
      "cell_type": "markdown",
      "metadata": {
        "id": "view-in-github",
        "colab_type": "text"
      },
      "source": [
        "<a href=\"https://colab.research.google.com/github/GeovanaSLima/Geovana-Portfolio/blob/master/Valores_Ausentes_Pandas.ipynb\" target=\"_parent\"><img src=\"https://colab.research.google.com/assets/colab-badge.svg\" alt=\"Open In Colab\"/></a>"
      ]
    },
    {
      "cell_type": "markdown",
      "metadata": {
        "id": "ZG-akRso1J_U",
        "colab_type": "text"
      },
      "source": [
        "# 2 Técnicas para lidar com valores ausentes utilizando o Pandas\n",
        "\n",
        "Quando lidamos com *datasets* do mundo real, com toda certeza vamos lidar com dados incompletos ou valores ausentes. Como, na maioria dos casos, esses dados são inseridos por pessoas ao longo do tempo, podem existir alterações na base que acabam deixando esses *gaps* no *dataset*. Como por exemplo, uma empresa que por vários anos usa uma base de dados e em algum momento decide adicionar uma nova coluna no seu *dataframe*, fazendo com que os valores antigos não possuam essa informação.\n",
        "\n",
        "Mas antes de dar continuidade, precisamos saber como são caracterizados esses valores.\n",
        "\n",
        "### **Valores ausentes**\n",
        "Esses valores são muito comuns e facilmente encontrado na maioria dos *datasets* existentes. Talvez você nunca tenha percebido, mas eles estão lá. \n",
        "\n",
        "Existem dois tipos, o ``None`` e ``NaN``. Mas se os dois são valores ausentes, qual a diferença entre eles?\n",
        "\n",
        "Bom, os dois soam e parecem muito similares, mas na verdade não são. ``None`` é uma classificação do Python que pode ser considerada o equivalente do NULL, ou seja, valores nulos ou valores não existentes em *object arrays*.\n",
        "\n",
        "Por outro lado, o ``NaN`` (*Not A Number*) é um valor *floating-point* especial e não pode ser convertido para outro tipo de valor. É utilizado para definir valores faltantes em *numerical arrays*.\n"
      ]
    },
    {
      "cell_type": "markdown",
      "metadata": {
        "id": "6rTVY0lE4zlb",
        "colab_type": "text"
      },
      "source": [
        "Existem inúmeras técnicas para resolver esse tipo de problemas, aqui abordaremos as duas principais.\n",
        "\n",
        "Para entender melhor essas técnicas, iremos fazer uma aplicação em um *dataset* real.\n",
        "\n",
        "### **Projeto +BIKE**\n",
        "\n",
        "O projeto do Governo do Distrito Federal, operado pela empresa Serttel, tem como objetivos:\n",
        "\n",
        "\n",
        "* Introduzir a Bicicleta como modal de Transporte Público saudável e não poluente.\n",
        "* Combater o sedentarismo da população e promover a prática de hábitos saudáveis.\n",
        "* Reduzir os engarrafamentos e a poluição ambiental nas áreas centrais das cidades.\n",
        "* Promover a humanização do ambiente urbano e a responsabilidade social das pessoas.\n",
        "\n",
        "Para isso, oferecem estações inteligentes alimentadas por energia solar e conectadas a uma central via *wireless*, distribuídas em diferentes pontos da cidade. O usuário pode retirar a Bicicleta na Estação através do aplicativo baixado em seu smartphone, devolvendo em qualquer Estação após o uso.\n",
        "\n",
        "<p align=\"center\"><img alt=\"+BIKE\" src=\"https://i.imgur.com/R0PRD0T.png\" width=\"30%\"></p>\n",
        "\n",
        "\n",
        "***Obs.: Informações retiradas do site oficial do [Projeto +Bike](\"http://www.maisbikecompartilhada.com.br/home.aspx\").***\n",
        "\n",
        "\n",
        "---------------------------------------------------------------------------\n",
        "Antes de começar a aplicação dessas técnicas precisamos, primeiro, entender o *dataset* e identificar os valores ausentes."
      ]
    },
    {
      "cell_type": "code",
      "metadata": {
        "id": "MLm9h2s17tAw",
        "colab_type": "code",
        "colab": {
          "base_uri": "https://localhost:8080/",
          "height": 289
        },
        "outputId": "18498077-92f2-4aed-b94e-db43f717d2f2"
      },
      "source": [
        "DATA_PATH = \"http://dl.dropboxusercontent.com/s/yyfeoxqw61o3iel/df_rides.csv\"\n",
        "\n",
        "# importar os pacotes\n",
        "import pandas as pd\n",
        "\n",
        "# importar o dataset\n",
        "df = pd.read_csv(DATA_PATH)\n",
        "\n",
        "# primeiras entradas\n",
        "df.head()"
      ],
      "execution_count": 13,
      "outputs": [
        {
          "output_type": "execute_result",
          "data": {
            "text/html": [
              "<div>\n",
              "<style scoped>\n",
              "    .dataframe tbody tr th:only-of-type {\n",
              "        vertical-align: middle;\n",
              "    }\n",
              "\n",
              "    .dataframe tbody tr th {\n",
              "        vertical-align: top;\n",
              "    }\n",
              "\n",
              "    .dataframe thead th {\n",
              "        text-align: right;\n",
              "    }\n",
              "</style>\n",
              "<table border=\"1\" class=\"dataframe\">\n",
              "  <thead>\n",
              "    <tr style=\"text-align: right;\">\n",
              "      <th></th>\n",
              "      <th>user_gender</th>\n",
              "      <th>user_birthdate</th>\n",
              "      <th>user_residence</th>\n",
              "      <th>ride_date</th>\n",
              "      <th>time_start</th>\n",
              "      <th>time_end</th>\n",
              "      <th>station_start</th>\n",
              "      <th>station_end</th>\n",
              "      <th>ride_duration</th>\n",
              "      <th>ride_late</th>\n",
              "    </tr>\n",
              "  </thead>\n",
              "  <tbody>\n",
              "    <tr>\n",
              "      <th>0</th>\n",
              "      <td>M</td>\n",
              "      <td>1971-06-08</td>\n",
              "      <td>NaN</td>\n",
              "      <td>2018-01-01</td>\n",
              "      <td>06:05:18</td>\n",
              "      <td>06:21:33</td>\n",
              "      <td>11 - Rodoviária 2</td>\n",
              "      <td>41 - Instituto de Artes</td>\n",
              "      <td>16.250000</td>\n",
              "      <td>0.0</td>\n",
              "    </tr>\n",
              "    <tr>\n",
              "      <th>1</th>\n",
              "      <td>M</td>\n",
              "      <td>1989-02-11</td>\n",
              "      <td>DF</td>\n",
              "      <td>2018-01-01</td>\n",
              "      <td>06:27:01</td>\n",
              "      <td>06:32:17</td>\n",
              "      <td>26 - Ministério da Saude</td>\n",
              "      <td>28 - CNMP - Conselho Nacional do Ministério Pú...</td>\n",
              "      <td>5.266667</td>\n",
              "      <td>0.0</td>\n",
              "    </tr>\n",
              "    <tr>\n",
              "      <th>2</th>\n",
              "      <td>M</td>\n",
              "      <td>1968-07-19</td>\n",
              "      <td>NaN</td>\n",
              "      <td>2018-01-01</td>\n",
              "      <td>06:29:33</td>\n",
              "      <td>06:44:57</td>\n",
              "      <td>11 - Rodoviária 2</td>\n",
              "      <td>43 - Biblioteca Central</td>\n",
              "      <td>15.400000</td>\n",
              "      <td>0.0</td>\n",
              "    </tr>\n",
              "    <tr>\n",
              "      <th>3</th>\n",
              "      <td>M</td>\n",
              "      <td>1991-12-19</td>\n",
              "      <td>NaN</td>\n",
              "      <td>2018-01-01</td>\n",
              "      <td>06:53:53</td>\n",
              "      <td>06:59:45</td>\n",
              "      <td>10 - Ministério dos Transportes</td>\n",
              "      <td>6 - Rodoviária</td>\n",
              "      <td>5.866667</td>\n",
              "      <td>0.0</td>\n",
              "    </tr>\n",
              "    <tr>\n",
              "      <th>4</th>\n",
              "      <td>M</td>\n",
              "      <td>1969-03-03</td>\n",
              "      <td>DF</td>\n",
              "      <td>2018-01-01</td>\n",
              "      <td>06:58:56</td>\n",
              "      <td>17:40:04</td>\n",
              "      <td>15 - Brasil 21</td>\n",
              "      <td>11 - Rodoviária 2</td>\n",
              "      <td>641.133333</td>\n",
              "      <td>1.0</td>\n",
              "    </tr>\n",
              "  </tbody>\n",
              "</table>\n",
              "</div>"
            ],
            "text/plain": [
              "  user_gender user_birthdate  ... ride_duration ride_late\n",
              "0           M     1971-06-08  ...     16.250000       0.0\n",
              "1           M     1989-02-11  ...      5.266667       0.0\n",
              "2           M     1968-07-19  ...     15.400000       0.0\n",
              "3           M     1991-12-19  ...      5.866667       0.0\n",
              "4           M     1969-03-03  ...    641.133333       1.0\n",
              "\n",
              "[5 rows x 10 columns]"
            ]
          },
          "metadata": {
            "tags": []
          },
          "execution_count": 13
        }
      ]
    },
    {
      "cell_type": "markdown",
      "metadata": {
        "id": "ROznfTCe8BJb",
        "colab_type": "text"
      },
      "source": [
        "## **Identificando os valores ausentes**\n",
        "\n",
        "Na tabela acima, podemos ver que existem entradas com valores ``NaN``, ou seja, valores nulos na coluna ``user_residence``. Mas apenas com as informações acima, não podemos admitir que apenas existam nessa coluna, é indispensável identificar a quantidade de valores ausentes e qual a representatividade dessa quantidade frente ao total de entradas do *dataset* completo.\n",
        "\n",
        "Para identificar esses valores vamos utilizar o método ``isnull``.\n"
      ]
    },
    {
      "cell_type": "code",
      "metadata": {
        "id": "JWiJo3XfiGRD",
        "colab_type": "code",
        "colab": {
          "base_uri": "https://localhost:8080/",
          "height": 208
        },
        "outputId": "8ccff31e-2bf3-4a04-b8aa-4aa468dac13e"
      },
      "source": [
        "# ver a quantidade de valores ausentes\n",
        "df.isnull().sum()"
      ],
      "execution_count": 14,
      "outputs": [
        {
          "output_type": "execute_result",
          "data": {
            "text/plain": [
              "user_gender          396\n",
              "user_birthdate         1\n",
              "user_residence    179905\n",
              "ride_date              0\n",
              "time_start             0\n",
              "time_end           43285\n",
              "station_start          0\n",
              "station_end            0\n",
              "ride_duration      73174\n",
              "ride_late          73174\n",
              "dtype: int64"
            ]
          },
          "metadata": {
            "tags": []
          },
          "execution_count": 14
        }
      ]
    },
    {
      "cell_type": "code",
      "metadata": {
        "id": "0HeE9VFwiMjl",
        "colab_type": "code",
        "colab": {
          "base_uri": "https://localhost:8080/",
          "height": 208
        },
        "outputId": "b6b8d8b6-4cd7-4487-f395-11818d372d3b"
      },
      "source": [
        "# ver a porcentagem de valores ausentes\n",
        "df.isnull().sum() / df.shape[0]"
      ],
      "execution_count": 15,
      "outputs": [
        {
          "output_type": "execute_result",
          "data": {
            "text/plain": [
              "user_gender       0.001378\n",
              "user_birthdate    0.000003\n",
              "user_residence    0.626144\n",
              "ride_date         0.000000\n",
              "time_start        0.000000\n",
              "time_end          0.150650\n",
              "station_start     0.000000\n",
              "station_end       0.000000\n",
              "ride_duration     0.254676\n",
              "ride_late         0.254676\n",
              "dtype: float64"
            ]
          },
          "metadata": {
            "tags": []
          },
          "execution_count": 15
        }
      ]
    },
    {
      "cell_type": "markdown",
      "metadata": {
        "id": "klQAF1iMi1Um",
        "colab_type": "text"
      },
      "source": [
        "Segundo as duas tabelas acima, vemos que existem colunas com quantidades absurdas de valores faltantes:\n",
        "\n",
        "* ``user_residence`` - 63%\n",
        "* ``time_end`` - 15%\n",
        "* ``ride_duration`` - 25%\n",
        "* ``ride_late`` - 25%\n",
        "\n",
        "Duas das informações importantes do nosso *dataset* estão com muitos valores ausentes, ``ride_duration`` e ``ride_late``. Vamos ver como funcionam as técnicas para lidar com esses valores."
      ]
    },
    {
      "cell_type": "markdown",
      "metadata": {
        "id": "9i7-GZBXkD-Z",
        "colab_type": "text"
      },
      "source": [
        "## **Excluir valores ausentes**\n",
        "\n",
        "Está é uma primiera opção para lidar com valores do tipo ``NaN`` em um *DataFrame*.Entretanto, ela não tende a ser ideal, porque você elimina dados existentes em outras colunos por conta de uma única célula. \n",
        "Está opção deve ser considerada caso a quantidade de dados nulos seja pequena a ponto de não ter representatividade no *dataset*.\n",
        "\n",
        "É possível excluir tanto linhas com valores ausentes, quanto colunas inteiras. Para que o Pandas saiba se sua intenção é eliminar linhas (``axis=0``) ou colunas (``axis=1``), devemos informar dentro do método ``dropna()``."
      ]
    },
    {
      "cell_type": "code",
      "metadata": {
        "id": "LElbRnJcl3jP",
        "colab_type": "code",
        "colab": {
          "base_uri": "https://localhost:8080/",
          "height": 52
        },
        "outputId": "92525883-bb6c-4be2-fe26-cc6000cbc827"
      },
      "source": [
        "# eliminar todas as entradas onde existam valores ausentes em `user_gender`\n",
        "df_clean = df.dropna(subset=['user_gender'], axis=0)\n",
        "\n",
        "# comparar o antes e o depois\n",
        "print(\"Antes:\\t{}\".format(df.shape))\n",
        "print(\"Depois:\\t{}\".format(df_clean.shape))"
      ],
      "execution_count": 16,
      "outputs": [
        {
          "output_type": "stream",
          "text": [
            "Antes:\t(287322, 10)\n",
            "Depois:\t(286926, 10)\n"
          ],
          "name": "stdout"
        }
      ]
    },
    {
      "cell_type": "markdown",
      "metadata": {
        "id": "sHWRJ8wimu6V",
        "colab_type": "text"
      },
      "source": [
        "## **Preencher valores**\n",
        "Normalmente esta é a melhor opção quando lidamos com valores ``NaN``, pois ela permite que você mantenha dados existentes em outras células.\n",
        "\n",
        "Você deve estar se perguntando, \"***Mas por qual valor eu substituoo o valor ausente?***\"\n",
        "Bom, a melhor resposta é: depende.\n",
        "\n",
        "Existem técnicas simples como usar valores mais frequentes, média e mediana, assim como há técnicas mais avançadas que envolvem o uso de modelos de *machine learning* cuja função é dizer qual valor usar nesses campos.\n",
        "\n",
        "Aqui iremos ficar nas técnicas mais simples. Vamos ver como podemos usar a mediana para preencher os campos ausentes da coluna ``ride_duration``, com o uso da função ``fillna()``."
      ]
    },
    {
      "cell_type": "code",
      "metadata": {
        "id": "ySy3q4Q-oMhI",
        "colab_type": "code",
        "colab": {
          "base_uri": "https://localhost:8080/",
          "height": 208
        },
        "outputId": "31ccb26e-6d3c-478d-8831-2e2f614016db"
      },
      "source": [
        "# antes\n",
        "df_clean.isnull().sum()"
      ],
      "execution_count": 17,
      "outputs": [
        {
          "output_type": "execute_result",
          "data": {
            "text/plain": [
              "user_gender            0\n",
              "user_birthdate         1\n",
              "user_residence    179818\n",
              "ride_date              0\n",
              "time_start             0\n",
              "time_end           43212\n",
              "station_start          0\n",
              "station_end            0\n",
              "ride_duration      73064\n",
              "ride_late          73064\n",
              "dtype: int64"
            ]
          },
          "metadata": {
            "tags": []
          },
          "execution_count": 17
        }
      ]
    },
    {
      "cell_type": "code",
      "metadata": {
        "id": "dgphek74pEI4",
        "colab_type": "code",
        "colab": {
          "base_uri": "https://localhost:8080/",
          "height": 208
        },
        "outputId": "9e435ebf-5dc6-43c4-88ec-127533f2a755"
      },
      "source": [
        "# preencher valores ausentes em `ride_duration` com a mediana\n",
        "rd_median = df_clean.ride_duration.median()\n",
        "df_clean = df_clean.fillna({'ride_duration': rd_median})\n",
        "\n",
        "# ver valores ausentes\n",
        "df_clean.isnull().sum()"
      ],
      "execution_count": 18,
      "outputs": [
        {
          "output_type": "execute_result",
          "data": {
            "text/plain": [
              "user_gender            0\n",
              "user_birthdate         1\n",
              "user_residence    179818\n",
              "ride_date              0\n",
              "time_start             0\n",
              "time_end           43212\n",
              "station_start          0\n",
              "station_end            0\n",
              "ride_duration          0\n",
              "ride_late          73064\n",
              "dtype: int64"
            ]
          },
          "metadata": {
            "tags": []
          },
          "execution_count": 18
        }
      ]
    },
    {
      "cell_type": "markdown",
      "metadata": {
        "id": "RfZ8iYi9ppgA",
        "colab_type": "text"
      },
      "source": [
        "Analisando as tabelas, vemos que anteriormente a coluna `ride_duration` possuía 73.064 valores ausentes e após a utilização do ``fillna()`` todos os campos estão completos.\n"
      ]
    },
    {
      "cell_type": "markdown",
      "metadata": {
        "id": "0fM_1rLFqsqj",
        "colab_type": "text"
      },
      "source": [
        "No caso da coluna ``user_gender``, temos uma variável categórica. O ideal é usar o valor mais frequente para o preenchimento dos valores. \n",
        "\n",
        "Vamos identificar qual valor tem maior recorrência e substituir diretamente na coluna."
      ]
    },
    {
      "cell_type": "code",
      "metadata": {
        "id": "Mr96_ojjrFov",
        "colab_type": "code",
        "colab": {
          "base_uri": "https://localhost:8080/",
          "height": 208
        },
        "outputId": "de0c2e03-51d8-400f-d3a6-61422b605ca1"
      },
      "source": [
        "# copiar o dataset\n",
        "df_clean = df.copy()\n",
        "\n",
        "# ver valores ausentes\n",
        "df_clean.isnull().sum()"
      ],
      "execution_count": 19,
      "outputs": [
        {
          "output_type": "execute_result",
          "data": {
            "text/plain": [
              "user_gender          396\n",
              "user_birthdate         1\n",
              "user_residence    179905\n",
              "ride_date              0\n",
              "time_start             0\n",
              "time_end           43285\n",
              "station_start          0\n",
              "station_end            0\n",
              "ride_duration      73174\n",
              "ride_late          73174\n",
              "dtype: int64"
            ]
          },
          "metadata": {
            "tags": []
          },
          "execution_count": 19
        }
      ]
    },
    {
      "cell_type": "code",
      "metadata": {
        "id": "Y4WATlaJrM7h",
        "colab_type": "code",
        "colab": {
          "base_uri": "https://localhost:8080/",
          "height": 69
        },
        "outputId": "84a8038e-11a5-4057-ab90-e7be7b8f4444"
      },
      "source": [
        "# ver o valor mais frequente\n",
        "df_clean.user_gender.value_counts()"
      ],
      "execution_count": 20,
      "outputs": [
        {
          "output_type": "execute_result",
          "data": {
            "text/plain": [
              "M    212608\n",
              "F     74318\n",
              "Name: user_gender, dtype: int64"
            ]
          },
          "metadata": {
            "tags": []
          },
          "execution_count": 20
        }
      ]
    },
    {
      "cell_type": "code",
      "metadata": {
        "id": "zOWJgL_pruH0",
        "colab_type": "code",
        "colab": {
          "base_uri": "https://localhost:8080/",
          "height": 208
        },
        "outputId": "aea9d270-efdb-48e5-be73-514415d14ed4"
      },
      "source": [
        "# preencher os valores ausentes de user_gender com 'M'\n",
        "df_clean = df_clean.fillna({'user_gender': 'M'})\n",
        "\n",
        "# ver valores ausentes\n",
        "df_clean.isnull().sum()"
      ],
      "execution_count": 21,
      "outputs": [
        {
          "output_type": "execute_result",
          "data": {
            "text/plain": [
              "user_gender            0\n",
              "user_birthdate         1\n",
              "user_residence    179905\n",
              "ride_date              0\n",
              "time_start             0\n",
              "time_end           43285\n",
              "station_start          0\n",
              "station_end            0\n",
              "ride_duration      73174\n",
              "ride_late          73174\n",
              "dtype: int64"
            ]
          },
          "metadata": {
            "tags": []
          },
          "execution_count": 21
        }
      ]
    },
    {
      "cell_type": "markdown",
      "metadata": {
        "id": "_r_Sjgpqr-G-",
        "colab_type": "text"
      },
      "source": [
        "Como podemos ver, agora a variável ``user_gender`` não possui valores ausentes."
      ]
    },
    {
      "cell_type": "markdown",
      "metadata": {
        "id": "uUxlaHQY5BJF",
        "colab_type": "text"
      },
      "source": [
        "---------------------------------------------------------------------------"
      ]
    },
    {
      "cell_type": "markdown",
      "metadata": {
        "id": "7tummd5B6I9M",
        "colab_type": "text"
      },
      "source": [
        "## **Mas por que devo utilizar esses métodos?**\n",
        "\n",
        "Como Cientista de Dados, você tem que ter a capacidade de entender, explorar e tratar seus dados da melhor maneira possível. E é muito complicado conseguir bons resultados em uma Análise que tenham quantidades altas de valores faltantes, essas lacunas podem te levar a conclusões completamente equívocas. \n",
        "\n",
        "Ao limpar o seu *dataset* você consegue obter informações mais claras e objetivas. Sem contar o fato de que aumenta muito o desempenho do seu algoritmo de *Machine Learning*.\n",
        "\n",
        "Com essas 2 técnicas apresentadas acima, você já consegue ter uma boa base de como manipular suas bases de dados e melhorar seus projetos de *Data Science*.\n",
        "\n"
      ]
    }
  ]
}